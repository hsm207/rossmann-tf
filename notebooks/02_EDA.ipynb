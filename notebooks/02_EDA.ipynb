{
 "cells": [
  {
   "cell_type": "markdown",
   "metadata": {},
   "source": [
    "# Setup"
   ]
  },
  {
   "cell_type": "markdown",
   "metadata": {},
   "source": [
    "Navigate to the project's root directory:"
   ]
  },
  {
   "cell_type": "code",
   "execution_count": 1,
   "metadata": {},
   "outputs": [
    {
     "name": "stdout",
     "output_type": "stream",
     "text": [
      "/opt/rossmann-tf\n"
     ]
    }
   ],
   "source": [
    "%cd .."
   ]
  },
  {
   "cell_type": "code",
   "execution_count": 2,
   "metadata": {},
   "outputs": [],
   "source": [
    "%matplotlib inline"
   ]
  },
  {
   "cell_type": "markdown",
   "metadata": {},
   "source": [
    "# Libraries"
   ]
  },
  {
   "cell_type": "code",
   "execution_count": 3,
   "metadata": {},
   "outputs": [],
   "source": [
    "import pandas as pd\n",
    "import numpy as np\n",
    "import matplotlib.pyplot as plt\n",
    "from sklearn.preprocessing import KBinsDiscretizer"
   ]
  },
  {
   "cell_type": "markdown",
   "metadata": {},
   "source": [
    "# Data"
   ]
  },
  {
   "cell_type": "code",
   "execution_count": 4,
   "metadata": {},
   "outputs": [],
   "source": [
    "train_df = pd.read_parquet('./data/train_clean.parquet')\n",
    "test_df = pd.read_parquet('./data/test_clean.parquet')"
   ]
  },
  {
   "cell_type": "code",
   "execution_count": 5,
   "metadata": {},
   "outputs": [
    {
     "data": {
      "text/html": [
       "<div>\n",
       "<style scoped>\n",
       "    .dataframe tbody tr th:only-of-type {\n",
       "        vertical-align: middle;\n",
       "    }\n",
       "\n",
       "    .dataframe tbody tr th {\n",
       "        vertical-align: top;\n",
       "    }\n",
       "\n",
       "    .dataframe thead th {\n",
       "        text-align: right;\n",
       "    }\n",
       "</style>\n",
       "<table border=\"1\" class=\"dataframe\">\n",
       "  <thead>\n",
       "    <tr style=\"text-align: right;\">\n",
       "      <th></th>\n",
       "      <th>index</th>\n",
       "      <th>Store</th>\n",
       "      <th>DayOfWeek</th>\n",
       "      <th>Date</th>\n",
       "      <th>Sales</th>\n",
       "      <th>Customers</th>\n",
       "      <th>Open</th>\n",
       "      <th>Promo</th>\n",
       "      <th>StateHoliday</th>\n",
       "      <th>SchoolHoliday</th>\n",
       "      <th>...</th>\n",
       "      <th>AfterStateHoliday</th>\n",
       "      <th>BeforeStateHoliday</th>\n",
       "      <th>AfterPromo</th>\n",
       "      <th>BeforePromo</th>\n",
       "      <th>SchoolHoliday_bw</th>\n",
       "      <th>StateHoliday_bw</th>\n",
       "      <th>Promo_bw</th>\n",
       "      <th>SchoolHoliday_fw</th>\n",
       "      <th>StateHoliday_fw</th>\n",
       "      <th>Promo_fw</th>\n",
       "    </tr>\n",
       "  </thead>\n",
       "  <tbody>\n",
       "    <tr>\n",
       "      <th>0</th>\n",
       "      <td>0</td>\n",
       "      <td>1</td>\n",
       "      <td>5</td>\n",
       "      <td>2015-07-31</td>\n",
       "      <td>5263</td>\n",
       "      <td>555</td>\n",
       "      <td>1</td>\n",
       "      <td>1</td>\n",
       "      <td>False</td>\n",
       "      <td>1</td>\n",
       "      <td>...</td>\n",
       "      <td>57</td>\n",
       "      <td>0</td>\n",
       "      <td>0</td>\n",
       "      <td>0</td>\n",
       "      <td>5.0</td>\n",
       "      <td>0.0</td>\n",
       "      <td>5.0</td>\n",
       "      <td>7.0</td>\n",
       "      <td>0.0</td>\n",
       "      <td>5.0</td>\n",
       "    </tr>\n",
       "    <tr>\n",
       "      <th>1</th>\n",
       "      <td>1</td>\n",
       "      <td>2</td>\n",
       "      <td>5</td>\n",
       "      <td>2015-07-31</td>\n",
       "      <td>6064</td>\n",
       "      <td>625</td>\n",
       "      <td>1</td>\n",
       "      <td>1</td>\n",
       "      <td>False</td>\n",
       "      <td>1</td>\n",
       "      <td>...</td>\n",
       "      <td>67</td>\n",
       "      <td>0</td>\n",
       "      <td>0</td>\n",
       "      <td>0</td>\n",
       "      <td>5.0</td>\n",
       "      <td>0.0</td>\n",
       "      <td>5.0</td>\n",
       "      <td>1.0</td>\n",
       "      <td>0.0</td>\n",
       "      <td>1.0</td>\n",
       "    </tr>\n",
       "    <tr>\n",
       "      <th>2</th>\n",
       "      <td>2</td>\n",
       "      <td>3</td>\n",
       "      <td>5</td>\n",
       "      <td>2015-07-31</td>\n",
       "      <td>8314</td>\n",
       "      <td>821</td>\n",
       "      <td>1</td>\n",
       "      <td>1</td>\n",
       "      <td>False</td>\n",
       "      <td>1</td>\n",
       "      <td>...</td>\n",
       "      <td>57</td>\n",
       "      <td>0</td>\n",
       "      <td>0</td>\n",
       "      <td>0</td>\n",
       "      <td>5.0</td>\n",
       "      <td>0.0</td>\n",
       "      <td>5.0</td>\n",
       "      <td>5.0</td>\n",
       "      <td>0.0</td>\n",
       "      <td>5.0</td>\n",
       "    </tr>\n",
       "    <tr>\n",
       "      <th>3</th>\n",
       "      <td>3</td>\n",
       "      <td>4</td>\n",
       "      <td>5</td>\n",
       "      <td>2015-07-31</td>\n",
       "      <td>13995</td>\n",
       "      <td>1498</td>\n",
       "      <td>1</td>\n",
       "      <td>1</td>\n",
       "      <td>False</td>\n",
       "      <td>1</td>\n",
       "      <td>...</td>\n",
       "      <td>67</td>\n",
       "      <td>0</td>\n",
       "      <td>0</td>\n",
       "      <td>0</td>\n",
       "      <td>5.0</td>\n",
       "      <td>0.0</td>\n",
       "      <td>5.0</td>\n",
       "      <td>1.0</td>\n",
       "      <td>0.0</td>\n",
       "      <td>1.0</td>\n",
       "    </tr>\n",
       "    <tr>\n",
       "      <th>4</th>\n",
       "      <td>4</td>\n",
       "      <td>5</td>\n",
       "      <td>5</td>\n",
       "      <td>2015-07-31</td>\n",
       "      <td>4822</td>\n",
       "      <td>559</td>\n",
       "      <td>1</td>\n",
       "      <td>1</td>\n",
       "      <td>False</td>\n",
       "      <td>1</td>\n",
       "      <td>...</td>\n",
       "      <td>57</td>\n",
       "      <td>0</td>\n",
       "      <td>0</td>\n",
       "      <td>0</td>\n",
       "      <td>5.0</td>\n",
       "      <td>0.0</td>\n",
       "      <td>5.0</td>\n",
       "      <td>1.0</td>\n",
       "      <td>0.0</td>\n",
       "      <td>1.0</td>\n",
       "    </tr>\n",
       "  </tbody>\n",
       "</table>\n",
       "<p>5 rows × 93 columns</p>\n",
       "</div>"
      ],
      "text/plain": [
       "   index  Store  DayOfWeek       Date  Sales  Customers  Open  Promo  \\\n",
       "0      0      1          5 2015-07-31   5263        555     1      1   \n",
       "1      1      2          5 2015-07-31   6064        625     1      1   \n",
       "2      2      3          5 2015-07-31   8314        821     1      1   \n",
       "3      3      4          5 2015-07-31  13995       1498     1      1   \n",
       "4      4      5          5 2015-07-31   4822        559     1      1   \n",
       "\n",
       "   StateHoliday  SchoolHoliday  ...  AfterStateHoliday  BeforeStateHoliday  \\\n",
       "0         False              1  ...                 57                   0   \n",
       "1         False              1  ...                 67                   0   \n",
       "2         False              1  ...                 57                   0   \n",
       "3         False              1  ...                 67                   0   \n",
       "4         False              1  ...                 57                   0   \n",
       "\n",
       "   AfterPromo  BeforePromo  SchoolHoliday_bw  StateHoliday_bw  Promo_bw  \\\n",
       "0           0            0               5.0              0.0       5.0   \n",
       "1           0            0               5.0              0.0       5.0   \n",
       "2           0            0               5.0              0.0       5.0   \n",
       "3           0            0               5.0              0.0       5.0   \n",
       "4           0            0               5.0              0.0       5.0   \n",
       "\n",
       "   SchoolHoliday_fw  StateHoliday_fw  Promo_fw  \n",
       "0               7.0              0.0       5.0  \n",
       "1               1.0              0.0       1.0  \n",
       "2               5.0              0.0       5.0  \n",
       "3               1.0              0.0       1.0  \n",
       "4               1.0              0.0       1.0  \n",
       "\n",
       "[5 rows x 93 columns]"
      ]
     },
     "execution_count": 5,
     "metadata": {},
     "output_type": "execute_result"
    }
   ],
   "source": [
    "train_df.head()"
   ]
  },
  {
   "cell_type": "code",
   "execution_count": 6,
   "metadata": {},
   "outputs": [
    {
     "data": {
      "text/html": [
       "<div>\n",
       "<style scoped>\n",
       "    .dataframe tbody tr th:only-of-type {\n",
       "        vertical-align: middle;\n",
       "    }\n",
       "\n",
       "    .dataframe tbody tr th {\n",
       "        vertical-align: top;\n",
       "    }\n",
       "\n",
       "    .dataframe thead th {\n",
       "        text-align: right;\n",
       "    }\n",
       "</style>\n",
       "<table border=\"1\" class=\"dataframe\">\n",
       "  <thead>\n",
       "    <tr style=\"text-align: right;\">\n",
       "      <th></th>\n",
       "      <th>index</th>\n",
       "      <th>Id</th>\n",
       "      <th>Store</th>\n",
       "      <th>DayOfWeek</th>\n",
       "      <th>Date</th>\n",
       "      <th>Open</th>\n",
       "      <th>Promo</th>\n",
       "      <th>StateHoliday</th>\n",
       "      <th>SchoolHoliday</th>\n",
       "      <th>Year</th>\n",
       "      <th>...</th>\n",
       "      <th>AfterStateHoliday</th>\n",
       "      <th>BeforeStateHoliday</th>\n",
       "      <th>AfterPromo</th>\n",
       "      <th>BeforePromo</th>\n",
       "      <th>SchoolHoliday_bw</th>\n",
       "      <th>StateHoliday_bw</th>\n",
       "      <th>Promo_bw</th>\n",
       "      <th>SchoolHoliday_fw</th>\n",
       "      <th>StateHoliday_fw</th>\n",
       "      <th>Promo_fw</th>\n",
       "    </tr>\n",
       "  </thead>\n",
       "  <tbody>\n",
       "    <tr>\n",
       "      <th>0</th>\n",
       "      <td>0</td>\n",
       "      <td>1</td>\n",
       "      <td>1</td>\n",
       "      <td>4</td>\n",
       "      <td>2015-09-17</td>\n",
       "      <td>1.0</td>\n",
       "      <td>1</td>\n",
       "      <td>False</td>\n",
       "      <td>0</td>\n",
       "      <td>2015</td>\n",
       "      <td>...</td>\n",
       "      <td>105</td>\n",
       "      <td>0</td>\n",
       "      <td>0</td>\n",
       "      <td>0</td>\n",
       "      <td>0.0</td>\n",
       "      <td>0.0</td>\n",
       "      <td>4.0</td>\n",
       "      <td>0.0</td>\n",
       "      <td>0.0</td>\n",
       "      <td>1.0</td>\n",
       "    </tr>\n",
       "    <tr>\n",
       "      <th>1</th>\n",
       "      <td>1</td>\n",
       "      <td>2</td>\n",
       "      <td>3</td>\n",
       "      <td>4</td>\n",
       "      <td>2015-09-17</td>\n",
       "      <td>1.0</td>\n",
       "      <td>1</td>\n",
       "      <td>False</td>\n",
       "      <td>0</td>\n",
       "      <td>2015</td>\n",
       "      <td>...</td>\n",
       "      <td>105</td>\n",
       "      <td>0</td>\n",
       "      <td>0</td>\n",
       "      <td>0</td>\n",
       "      <td>0.0</td>\n",
       "      <td>0.0</td>\n",
       "      <td>4.0</td>\n",
       "      <td>0.0</td>\n",
       "      <td>0.0</td>\n",
       "      <td>1.0</td>\n",
       "    </tr>\n",
       "    <tr>\n",
       "      <th>2</th>\n",
       "      <td>2</td>\n",
       "      <td>3</td>\n",
       "      <td>7</td>\n",
       "      <td>4</td>\n",
       "      <td>2015-09-17</td>\n",
       "      <td>1.0</td>\n",
       "      <td>1</td>\n",
       "      <td>False</td>\n",
       "      <td>0</td>\n",
       "      <td>2015</td>\n",
       "      <td>...</td>\n",
       "      <td>115</td>\n",
       "      <td>0</td>\n",
       "      <td>0</td>\n",
       "      <td>0</td>\n",
       "      <td>0.0</td>\n",
       "      <td>0.0</td>\n",
       "      <td>4.0</td>\n",
       "      <td>0.0</td>\n",
       "      <td>0.0</td>\n",
       "      <td>1.0</td>\n",
       "    </tr>\n",
       "    <tr>\n",
       "      <th>3</th>\n",
       "      <td>3</td>\n",
       "      <td>4</td>\n",
       "      <td>8</td>\n",
       "      <td>4</td>\n",
       "      <td>2015-09-17</td>\n",
       "      <td>1.0</td>\n",
       "      <td>1</td>\n",
       "      <td>False</td>\n",
       "      <td>0</td>\n",
       "      <td>2015</td>\n",
       "      <td>...</td>\n",
       "      <td>115</td>\n",
       "      <td>0</td>\n",
       "      <td>0</td>\n",
       "      <td>0</td>\n",
       "      <td>0.0</td>\n",
       "      <td>0.0</td>\n",
       "      <td>4.0</td>\n",
       "      <td>0.0</td>\n",
       "      <td>0.0</td>\n",
       "      <td>1.0</td>\n",
       "    </tr>\n",
       "    <tr>\n",
       "      <th>4</th>\n",
       "      <td>4</td>\n",
       "      <td>5</td>\n",
       "      <td>9</td>\n",
       "      <td>4</td>\n",
       "      <td>2015-09-17</td>\n",
       "      <td>1.0</td>\n",
       "      <td>1</td>\n",
       "      <td>False</td>\n",
       "      <td>0</td>\n",
       "      <td>2015</td>\n",
       "      <td>...</td>\n",
       "      <td>105</td>\n",
       "      <td>0</td>\n",
       "      <td>0</td>\n",
       "      <td>0</td>\n",
       "      <td>0.0</td>\n",
       "      <td>0.0</td>\n",
       "      <td>4.0</td>\n",
       "      <td>0.0</td>\n",
       "      <td>0.0</td>\n",
       "      <td>1.0</td>\n",
       "    </tr>\n",
       "  </tbody>\n",
       "</table>\n",
       "<p>5 rows × 92 columns</p>\n",
       "</div>"
      ],
      "text/plain": [
       "   index  Id  Store  DayOfWeek       Date  Open  Promo  StateHoliday  \\\n",
       "0      0   1      1          4 2015-09-17   1.0      1         False   \n",
       "1      1   2      3          4 2015-09-17   1.0      1         False   \n",
       "2      2   3      7          4 2015-09-17   1.0      1         False   \n",
       "3      3   4      8          4 2015-09-17   1.0      1         False   \n",
       "4      4   5      9          4 2015-09-17   1.0      1         False   \n",
       "\n",
       "   SchoolHoliday  Year  ...  AfterStateHoliday  BeforeStateHoliday  \\\n",
       "0              0  2015  ...                105                   0   \n",
       "1              0  2015  ...                105                   0   \n",
       "2              0  2015  ...                115                   0   \n",
       "3              0  2015  ...                115                   0   \n",
       "4              0  2015  ...                105                   0   \n",
       "\n",
       "   AfterPromo  BeforePromo  SchoolHoliday_bw  StateHoliday_bw  Promo_bw  \\\n",
       "0           0            0               0.0              0.0       4.0   \n",
       "1           0            0               0.0              0.0       4.0   \n",
       "2           0            0               0.0              0.0       4.0   \n",
       "3           0            0               0.0              0.0       4.0   \n",
       "4           0            0               0.0              0.0       4.0   \n",
       "\n",
       "   SchoolHoliday_fw  StateHoliday_fw  Promo_fw  \n",
       "0               0.0              0.0       1.0  \n",
       "1               0.0              0.0       1.0  \n",
       "2               0.0              0.0       1.0  \n",
       "3               0.0              0.0       1.0  \n",
       "4               0.0              0.0       1.0  \n",
       "\n",
       "[5 rows x 92 columns]"
      ]
     },
     "execution_count": 6,
     "metadata": {},
     "output_type": "execute_result"
    }
   ],
   "source": [
    "test_df.head()"
   ]
  },
  {
   "cell_type": "markdown",
   "metadata": {},
   "source": [
    "# Column Names"
   ]
  },
  {
   "cell_type": "markdown",
   "metadata": {},
   "source": [
    "Check column names that are in `train_df` but not in `test_df`:"
   ]
  },
  {
   "cell_type": "code",
   "execution_count": 7,
   "metadata": {},
   "outputs": [
    {
     "data": {
      "text/plain": [
       "{'Customers', 'Sales'}"
      ]
     },
     "execution_count": 7,
     "metadata": {},
     "output_type": "execute_result"
    }
   ],
   "source": [
    "set(train_df.columns).difference(set(test_df.columns))"
   ]
  },
  {
   "cell_type": "markdown",
   "metadata": {},
   "source": [
    "What is in `test_df` but not in `train_df`?"
   ]
  },
  {
   "cell_type": "code",
   "execution_count": 8,
   "metadata": {},
   "outputs": [
    {
     "data": {
      "text/plain": [
       "{'Id'}"
      ]
     },
     "execution_count": 8,
     "metadata": {},
     "output_type": "execute_result"
    }
   ],
   "source": [
    "set(test_df.columns).difference(set(train_df.columns))"
   ]
  },
  {
   "cell_type": "markdown",
   "metadata": {},
   "source": [
    "I guess if you knew the number of customers then you could give a good approximation of the sales...\n",
    "\n",
    "Note that `Sales` is the variable you are trying to predict."
   ]
  },
  {
   "cell_type": "markdown",
   "metadata": {},
   "source": [
    "## Summary statistics"
   ]
  },
  {
   "cell_type": "code",
   "execution_count": 9,
   "metadata": {},
   "outputs": [
    {
     "data": {
      "text/plain": [
       "(844338, 93)"
      ]
     },
     "execution_count": 9,
     "metadata": {},
     "output_type": "execute_result"
    }
   ],
   "source": [
    "train_df.shape"
   ]
  },
  {
   "cell_type": "code",
   "execution_count": 10,
   "metadata": {},
   "outputs": [
    {
     "data": {
      "text/plain": [
       "(41088, 92)"
      ]
     },
     "execution_count": 10,
     "metadata": {},
     "output_type": "execute_result"
    }
   ],
   "source": [
    "test_df.shape"
   ]
  },
  {
   "cell_type": "markdown",
   "metadata": {},
   "source": [
    "# Feature types"
   ]
  },
  {
   "cell_type": "markdown",
   "metadata": {},
   "source": [
    "Create lists to isolate the continuous and categorical variable:"
   ]
  },
  {
   "cell_type": "code",
   "execution_count": 11,
   "metadata": {},
   "outputs": [],
   "source": [
    "# from https://github.com/fastai/course-v3/blob/master/nbs/dl1/lesson6-rossmann.ipynb\n",
    "cat_vars = ['Store', 'DayOfWeek', 'Year', 'Month', 'Day', 'StateHoliday', 'CompetitionMonthsOpen',\n",
    "    'Promo2Weeks', 'StoreType', 'Assortment', 'PromoInterval', 'CompetitionOpenSinceYear', 'Promo2SinceYear',\n",
    "    'State', 'Week', 'Events', 'Promo_fw', 'Promo_bw', 'StateHoliday_fw', 'StateHoliday_bw',\n",
    "    'SchoolHoliday_fw', 'SchoolHoliday_bw']\n",
    "\n",
    "cont_vars = ['CompetitionDistance', 'Max_TemperatureC', 'Mean_TemperatureC', 'Min_TemperatureC',\n",
    "   'Max_Humidity', 'Mean_Humidity', 'Min_Humidity', 'Max_Wind_SpeedKm_h', \n",
    "   'Mean_Wind_SpeedKm_h', 'CloudCover', 'trend', 'trend_DE',\n",
    "   'AfterStateHoliday', 'BeforeStateHoliday', 'Promo', 'SchoolHoliday']\n",
    "\n",
    "target = ['Sales']"
   ]
  },
  {
   "cell_type": "code",
   "execution_count": 12,
   "metadata": {},
   "outputs": [],
   "source": [
    "# my modifications\n",
    "# based on https://en.wikipedia.org/wiki/Okta, CloudCover is categorical\n",
    "cat_vars = ['Store', 'DayOfWeek', 'Year', 'Month', 'Day', 'StateHoliday', 'CompetitionMonthsOpen',\n",
    "    'Promo2Weeks', 'StoreType', 'Assortment', 'PromoInterval', 'CompetitionOpenSinceYear', 'Promo2SinceYear',\n",
    "    'State', 'Week', 'Events', 'Promo_fw', 'Promo_bw', 'StateHoliday_fw', 'StateHoliday_bw',\n",
    "    'SchoolHoliday_fw', 'SchoolHoliday_bw', 'Promo', 'SchoolHoliday', 'CloudCover']\n",
    "\n",
    "cont_vars = ['CompetitionDistance', 'Max_TemperatureC', 'Mean_TemperatureC', 'Min_TemperatureC',\n",
    "   'Max_Humidity', 'Mean_Humidity', 'Min_Humidity', 'Max_Wind_SpeedKm_h', \n",
    "   'Mean_Wind_SpeedKm_h', 'trend', 'trend_DE',\n",
    "   'AfterStateHoliday', 'BeforeStateHoliday']\n",
    "\n",
    "target = ['Sales']\n",
    "\n",
    "cat_vars = sorted(cat_vars)\n",
    "cont_vars = sorted(cont_vars)"
   ]
  },
  {
   "cell_type": "markdown",
   "metadata": {},
   "source": [
    "What are the variables not used as features?"
   ]
  },
  {
   "cell_type": "code",
   "execution_count": 13,
   "metadata": {},
   "outputs": [
    {
     "data": {
      "text/plain": [
       "{'AfterPromo',\n",
       " 'AfterSchoolHoliday',\n",
       " 'BeforePromo',\n",
       " 'BeforeSchoolHoliday',\n",
       " 'CompetitionDaysOpen',\n",
       " 'CompetitionOpenSince',\n",
       " 'CompetitionOpenSinceMonth',\n",
       " 'Customers',\n",
       " 'Date',\n",
       " 'Date_DE',\n",
       " 'Day_DE',\n",
       " 'Dayofweek',\n",
       " 'Dayofweek_DE',\n",
       " 'Dayofyear',\n",
       " 'Dayofyear_DE',\n",
       " 'Dew_PointC',\n",
       " 'Elapsed',\n",
       " 'Elapsed_DE',\n",
       " 'Is_month_end',\n",
       " 'Is_month_end_DE',\n",
       " 'Is_month_start',\n",
       " 'Is_month_start_DE',\n",
       " 'Is_quarter_end',\n",
       " 'Is_quarter_end_DE',\n",
       " 'Is_quarter_start',\n",
       " 'Is_quarter_start_DE',\n",
       " 'Is_year_end',\n",
       " 'Is_year_end_DE',\n",
       " 'Is_year_start',\n",
       " 'Is_year_start_DE',\n",
       " 'Max_Gust_SpeedKm_h',\n",
       " 'Max_Sea_Level_PressurehPa',\n",
       " 'Max_VisibilityKm',\n",
       " 'MeanDew_PointC',\n",
       " 'Mean_Sea_Level_PressurehPa',\n",
       " 'Mean_VisibilityKm',\n",
       " 'Min_DewpointC',\n",
       " 'Min_Sea_Level_PressurehPa',\n",
       " 'Min_VisibilitykM',\n",
       " 'Month_DE',\n",
       " 'Open',\n",
       " 'Precipitationmm',\n",
       " 'Promo2',\n",
       " 'Promo2Days',\n",
       " 'Promo2Since',\n",
       " 'Promo2SinceWeek',\n",
       " 'StateName',\n",
       " 'State_DE',\n",
       " 'WindDirDegrees',\n",
       " 'file',\n",
       " 'file_DE',\n",
       " 'index',\n",
       " 'week',\n",
       " 'week_DE'}"
      ]
     },
     "execution_count": 13,
     "metadata": {},
     "output_type": "execute_result"
    }
   ],
   "source": [
    "set(train_df.columns).difference(set(cat_vars + cont_vars + target))"
   ]
  },
  {
   "cell_type": "markdown",
   "metadata": {},
   "source": [
    "## Continuous variables"
   ]
  },
  {
   "cell_type": "markdown",
   "metadata": {},
   "source": [
    "Are there missing values in the continuous variables?"
   ]
  },
  {
   "cell_type": "code",
   "execution_count": 14,
   "metadata": {},
   "outputs": [
    {
     "data": {
      "text/plain": [
       "AfterStateHoliday         0\n",
       "BeforeStateHoliday        0\n",
       "CompetitionDistance    2186\n",
       "Max_Humidity              0\n",
       "Max_TemperatureC          0\n",
       "Max_Wind_SpeedKm_h        0\n",
       "Mean_Humidity             0\n",
       "Mean_TemperatureC         0\n",
       "Mean_Wind_SpeedKm_h       0\n",
       "Min_Humidity              0\n",
       "Min_TemperatureC          0\n",
       "trend                     0\n",
       "trend_DE                  0\n",
       "dtype: int64"
      ]
     },
     "execution_count": 14,
     "metadata": {},
     "output_type": "execute_result"
    }
   ],
   "source": [
    "train_df[cont_vars].isna().sum()"
   ]
  },
  {
   "cell_type": "code",
   "execution_count": 15,
   "metadata": {},
   "outputs": [
    {
     "data": {
      "text/plain": [
       "AfterStateHoliday       0\n",
       "BeforeStateHoliday      0\n",
       "CompetitionDistance    96\n",
       "Max_Humidity            0\n",
       "Max_TemperatureC        0\n",
       "Max_Wind_SpeedKm_h      0\n",
       "Mean_Humidity           0\n",
       "Mean_TemperatureC       0\n",
       "Mean_Wind_SpeedKm_h     0\n",
       "Min_Humidity            0\n",
       "Min_TemperatureC        0\n",
       "trend                   0\n",
       "trend_DE                0\n",
       "dtype: int64"
      ]
     },
     "execution_count": 15,
     "metadata": {},
     "output_type": "execute_result"
    }
   ],
   "source": [
    "test_df[cont_vars].isna().sum()"
   ]
  },
  {
   "cell_type": "markdown",
   "metadata": {},
   "source": [
    "Following Jeremy Howard's [approach](https://github.com/fastai/course-v3/blob/master/nbs/dl1/lesson6-rossmann.ipynb), we will replace the missing `CompetitionDistance` with the median and create a boolean variable to indicate that it is missing:"
   ]
  },
  {
   "cell_type": "code",
   "execution_count": 16,
   "metadata": {},
   "outputs": [],
   "source": [
    "median_dist = train_df['CompetitionDistance'].median()\n",
    "\n",
    "train_df['CompetitionDistance_na'] = train_df['CompetitionDistance'].isna()\n",
    "train_df['CompetitionDistance'] = np.where(train_df['CompetitionDistance'].isna(), \n",
    "                                           median_dist, \n",
    "                                           train_df['CompetitionDistance'])\n",
    "\n",
    "test_df['CompetitionDistance_na'] = test_df['CompetitionDistance'].isna()\n",
    "test_df['CompetitionDistance'] = np.where(test_df['CompetitionDistance'].isna(), \n",
    "                                          median_dist, \n",
    "                                          test_df['CompetitionDistance'])\n",
    "\n",
    "# treat the missing competition distance column as categorical\n",
    "cat_vars = cat_vars + ['CompetitionDistance_na']"
   ]
  },
  {
   "cell_type": "markdown",
   "metadata": {},
   "source": [
    "View the distribution of the continuous variables:"
   ]
  },
  {
   "cell_type": "code",
   "execution_count": 17,
   "metadata": {},
   "outputs": [
    {
     "data": {
      "image/png": "[encoded data removed]",
      "text/plain": [
       "<Figure size 1080x1080 with 16 Axes>"
      ]
     },
     "metadata": {
      "needs_background": "light"
     },
     "output_type": "display_data"
    }
   ],
   "source": [
    "fig, axes = plt.subplots(nrows=4, ncols=4, figsize=(15,15))\n",
    "axes[-1][-1].axis('off')\n",
    "axes[-1][-2].axis('off')\n",
    "axes[-1][-3].axis('off')\n",
    "\n",
    "for i in range(4):\n",
    "    for j in range(4):\n",
    "        idx = i*4 + j\n",
    "        if idx > len(cont_vars) - 1:\n",
    "            break\n",
    "        var = cont_vars[i*4 + j]\n",
    "        \n",
    "        train_df[var].hist(ax=axes[i,j])\n",
    "        axes[i,j].set_title(var)"
   ]
  },
  {
   "cell_type": "markdown",
   "metadata": {},
   "source": [
    "Create list of variables to do log scaling:"
   ]
  },
  {
   "cell_type": "code",
   "execution_count": 18,
   "metadata": {},
   "outputs": [],
   "source": [
    "log_scale_vars = ['CompetitionDistance', 'Max_Wind_SpeedKm_h', 'Mean_Wind_SpeedKm_h']"
   ]
  },
  {
   "cell_type": "code",
   "execution_count": 19,
   "metadata": {},
   "outputs": [
    {
     "data": {
      "image/png": "[encoded data removed]",
      "text/plain": [
       "<Figure size 504x504 with 4 Axes>"
      ]
     },
     "metadata": {
      "needs_background": "light"
     },
     "output_type": "display_data"
    }
   ],
   "source": [
    "fig, axes = plt.subplots(nrows=2, ncols=2, figsize=(7,7))\n",
    "axes[-1][-1].axis('off')\n",
    "\n",
    "for i in range(2):\n",
    "    for j in range(2):\n",
    "        idx = i*2 + j\n",
    "        if idx > len(log_scale_vars) - 1:\n",
    "            break\n",
    "        var = log_scale_vars[i*2 + j]\n",
    "        \n",
    "        train_df[var].apply(lambda val: np.log(val+1/1000)).hist(ax=axes[i,j])\n",
    "        axes[i,j].set_title(var)"
   ]
  },
  {
   "cell_type": "markdown",
   "metadata": {},
   "source": [
    "Create list of variables to do quantile bucketing and figure out the bin widths:"
   ]
  },
  {
   "cell_type": "code",
   "execution_count": 20,
   "metadata": {},
   "outputs": [],
   "source": [
    "quantile_buckets = ['AfterStateHoliday', 'BeforeStateHoliday', 'Max_Humidity']\n",
    "n_quantiles = [10, 10, 2]"
   ]
  },
  {
   "cell_type": "code",
   "execution_count": 21,
   "metadata": {},
   "outputs": [
    {
     "name": "stdout",
     "output_type": "stream",
     "text": [
      "Buckets for AfterStateHoliday:\n",
      "Total buckets: 10\n",
      "Bin edges: [array([  0.,   4.,   8.,  15.,  22.,  30.,  42.,  53.,  68.,  84., 135.])]\n",
      "2.0    100039\n",
      "7.0     88771\n",
      "9.0     88233\n",
      "5.0     87381\n",
      "4.0     85110\n",
      "1.0     85109\n",
      "8.0     81476\n",
      "3.0     81039\n",
      "6.0     80103\n",
      "0.0     67077\n",
      "Name: AfterStateHoliday_bucket, dtype: int64\n",
      "Total observations: 844338\n",
      "\n",
      "\n",
      "Buckets for BeforeStateHoliday:\n",
      "Total buckets: 10\n",
      "Bin edges: [array([-195.,  -85.,  -68.,  -52.,  -39.,  -28.,  -20.,  -11.,   -6.,\n",
      "         -2.,    0.])]\n",
      "9.0    98344\n",
      "6.0    94996\n",
      "1.0    87815\n",
      "3.0    85653\n",
      "2.0    83740\n",
      "5.0    82477\n",
      "7.0    82262\n",
      "0.0    79848\n",
      "4.0    75311\n",
      "8.0    73892\n",
      "Name: BeforeStateHoliday_bucket, dtype: int64\n",
      "Total observations: 844338\n",
      "\n",
      "\n",
      "Buckets for Max_Humidity:\n",
      "Total buckets: 2\n",
      "Bin edges: [array([ 44.,  94., 100.])]\n",
      "1.0    501606\n",
      "0.0    342732\n",
      "Name: Max_Humidity_bucket, dtype: int64\n",
      "Total observations: 844338\n",
      "\n",
      "\n"
     ]
    }
   ],
   "source": [
    "for col, n in zip(quantile_buckets, n_quantiles):\n",
    "    print('Buckets for {}:'.format(col))\n",
    "    \n",
    "    est = KBinsDiscretizer(n_bins=n, encode='ordinal', strategy='quantile')\n",
    "    bucket_name = col + '_bucket'\n",
    "    cat_vars = cat_vars + [bucket_name]\n",
    "    \n",
    "    train_vals = train_df[col].values.reshape(-1,1)\n",
    "    train_df[bucket_name] = est.fit_transform(train_vals).reshape(-1)\n",
    "    \n",
    "    test_vals = test_df[col].values.reshape(-1, 1)\n",
    "    test_df[bucket_name] = est.transform(test_vals).reshape(-1)\n",
    "    \n",
    "    results = train_df[bucket_name].value_counts()\n",
    "    n_buckets, = results.shape\n",
    "    \n",
    "    print('Total buckets: {}'.format(n_buckets))\n",
    "    print('Bin edges: {}'.format(est.bin_edges_))\n",
    "    print(results)\n",
    "    print('Total observations: {}'.format(results.sum()))\n",
    "    print('\\n')\n",
    "    "
   ]
  },
  {
   "cell_type": "markdown",
   "metadata": {},
   "source": [
    "What would z-scoring the continuous variables look like?"
   ]
  },
  {
   "cell_type": "code",
   "execution_count": 22,
   "metadata": {},
   "outputs": [
    {
     "data": {
      "image/png": "[encoded data removed]",
      "text/plain": [
       "<Figure size 1080x1080 with 16 Axes>"
      ]
     },
     "metadata": {
      "needs_background": "light"
     },
     "output_type": "display_data"
    }
   ],
   "source": [
    "z_score_train_df = (train_df[cont_vars] - train_df[cont_vars].mean())/train_df[cont_vars].std(ddof=0)\n",
    "\n",
    "fig, axes = plt.subplots(nrows=4, ncols=4, figsize=(15,15))\n",
    "axes[-1][-1].axis('off')\n",
    "axes[-1][-2].axis('off')\n",
    "axes[-1][-3].axis('off')\n",
    "\n",
    "for i in range(4):\n",
    "    for j in range(4):\n",
    "        idx = i*4 + j\n",
    "        if idx > len(cont_vars) - 1:\n",
    "            break\n",
    "        var = cont_vars[i*4 + j]\n",
    "        \n",
    "        z_score_train_df[var].hist(ax=axes[i,j])\n",
    "        axes[i,j].set_title(var)"
   ]
  },
  {
   "cell_type": "markdown",
   "metadata": {},
   "source": [
    "## Categorical variables"
   ]
  },
  {
   "cell_type": "markdown",
   "metadata": {},
   "source": [
    "Set `CloudCover` to a string:"
   ]
  },
  {
   "cell_type": "code",
   "execution_count": 23,
   "metadata": {},
   "outputs": [],
   "source": [
    "train_df['CloudCover'] = train_df['CloudCover'].astype(np.str)\n",
    "test_df['CloudCover'] = test_df['CloudCover'].astype(np.str)"
   ]
  },
  {
   "cell_type": "markdown",
   "metadata": {},
   "source": [
    "Check for missing values in the categorical variables:"
   ]
  },
  {
   "cell_type": "code",
   "execution_count": 24,
   "metadata": {},
   "outputs": [
    {
     "data": {
      "text/plain": [
       "Assortment                        0\n",
       "CloudCover                        0\n",
       "CompetitionMonthsOpen             0\n",
       "CompetitionOpenSinceYear          0\n",
       "Day                               0\n",
       "DayOfWeek                         0\n",
       "Events                       203057\n",
       "Month                             0\n",
       "Promo                             0\n",
       "Promo2SinceYear                   0\n",
       "Promo2Weeks                       0\n",
       "PromoInterval                423292\n",
       "Promo_bw                          0\n",
       "Promo_fw                          0\n",
       "SchoolHoliday                     0\n",
       "SchoolHoliday_bw                  0\n",
       "SchoolHoliday_fw                  0\n",
       "State                             0\n",
       "StateHoliday                      0\n",
       "StateHoliday_bw                   0\n",
       "StateHoliday_fw                   0\n",
       "Store                             0\n",
       "StoreType                         0\n",
       "Week                              0\n",
       "Year                              0\n",
       "CompetitionDistance_na            0\n",
       "AfterStateHoliday_bucket          0\n",
       "BeforeStateHoliday_bucket         0\n",
       "Max_Humidity_bucket               0\n",
       "dtype: int64"
      ]
     },
     "execution_count": 24,
     "metadata": {},
     "output_type": "execute_result"
    }
   ],
   "source": [
    "train_df[cat_vars].isna().sum()"
   ]
  },
  {
   "cell_type": "code",
   "execution_count": 25,
   "metadata": {},
   "outputs": [
    {
     "data": {
      "text/plain": [
       "Assortment                       0\n",
       "CloudCover                       0\n",
       "CompetitionMonthsOpen            0\n",
       "CompetitionOpenSinceYear         0\n",
       "Day                              0\n",
       "DayOfWeek                        0\n",
       "Events                       10155\n",
       "Month                            0\n",
       "Promo                            0\n",
       "Promo2SinceYear                  0\n",
       "Promo2Weeks                      0\n",
       "PromoInterval                17232\n",
       "Promo_bw                         0\n",
       "Promo_fw                         0\n",
       "SchoolHoliday                    0\n",
       "SchoolHoliday_bw                 0\n",
       "SchoolHoliday_fw                 0\n",
       "State                            0\n",
       "StateHoliday                     0\n",
       "StateHoliday_bw                  0\n",
       "StateHoliday_fw                  0\n",
       "Store                            0\n",
       "StoreType                        0\n",
       "Week                             0\n",
       "Year                             0\n",
       "CompetitionDistance_na           0\n",
       "AfterStateHoliday_bucket         0\n",
       "BeforeStateHoliday_bucket        0\n",
       "Max_Humidity_bucket              0\n",
       "dtype: int64"
      ]
     },
     "execution_count": 25,
     "metadata": {},
     "output_type": "execute_result"
    }
   ],
   "source": [
    "test_df[cat_vars].isna().sum()"
   ]
  },
  {
   "cell_type": "code",
   "execution_count": 26,
   "metadata": {},
   "outputs": [
    {
     "data": {
      "text/plain": [
       "Assortment                    object\n",
       "CloudCover                    object\n",
       "CompetitionMonthsOpen          int64\n",
       "CompetitionOpenSinceYear       int32\n",
       "Day                            int64\n",
       "DayOfWeek                      int64\n",
       "Events                        object\n",
       "Month                          int64\n",
       "Promo                          int64\n",
       "Promo2SinceYear                int32\n",
       "Promo2Weeks                    int64\n",
       "PromoInterval                 object\n",
       "Promo_bw                     float64\n",
       "Promo_fw                     float64\n",
       "SchoolHoliday                  int64\n",
       "SchoolHoliday_bw             float64\n",
       "SchoolHoliday_fw             float64\n",
       "State                         object\n",
       "StateHoliday                    bool\n",
       "StateHoliday_bw              float64\n",
       "StateHoliday_fw              float64\n",
       "Store                          int64\n",
       "StoreType                     object\n",
       "Week                           int64\n",
       "Year                           int64\n",
       "CompetitionDistance_na          bool\n",
       "AfterStateHoliday_bucket     float64\n",
       "BeforeStateHoliday_bucket    float64\n",
       "Max_Humidity_bucket          float64\n",
       "dtype: object"
      ]
     },
     "execution_count": 26,
     "metadata": {},
     "output_type": "execute_result"
    }
   ],
   "source": [
    "train_df[cat_vars].dtypes"
   ]
  },
  {
   "cell_type": "markdown",
   "metadata": {},
   "source": [
    "Fill missing categorical variables with '-1' (these are string columns):"
   ]
  },
  {
   "cell_type": "code",
   "execution_count": 27,
   "metadata": {},
   "outputs": [],
   "source": [
    "train_df[cat_vars] = train_df[cat_vars].fillna('-1')\n",
    "test_df[cat_vars] = test_df[cat_vars].fillna('-1')"
   ]
  },
  {
   "cell_type": "markdown",
   "metadata": {},
   "source": [
    "Convert the float columns into integers:"
   ]
  },
  {
   "cell_type": "code",
   "execution_count": 28,
   "metadata": {},
   "outputs": [],
   "source": [
    "float_columns = train_df[cat_vars]\\\n",
    "    .dtypes.where(lambda val: val == np.float64)\\\n",
    "    .dropna()\\\n",
    "    .index\\\n",
    "    .tolist()\n",
    "\n",
    "for column in float_columns:\n",
    "    train_df[column] = train_df[column].astype(np.int32)\n",
    "    test_df[column] = train_df[column].astype(np.int32)"
   ]
  },
  {
   "cell_type": "code",
   "execution_count": 29,
   "metadata": {},
   "outputs": [
    {
     "data": {
      "text/plain": [
       "Assortment                   object\n",
       "CloudCover                   object\n",
       "CompetitionMonthsOpen         int64\n",
       "CompetitionOpenSinceYear      int32\n",
       "Day                           int64\n",
       "DayOfWeek                     int64\n",
       "Events                       object\n",
       "Month                         int64\n",
       "Promo                         int64\n",
       "Promo2SinceYear               int32\n",
       "Promo2Weeks                   int64\n",
       "PromoInterval                object\n",
       "Promo_bw                      int32\n",
       "Promo_fw                      int32\n",
       "SchoolHoliday                 int64\n",
       "SchoolHoliday_bw              int32\n",
       "SchoolHoliday_fw              int32\n",
       "State                        object\n",
       "StateHoliday                   bool\n",
       "StateHoliday_bw               int32\n",
       "StateHoliday_fw               int32\n",
       "Store                         int64\n",
       "StoreType                    object\n",
       "Week                          int64\n",
       "Year                          int64\n",
       "CompetitionDistance_na         bool\n",
       "AfterStateHoliday_bucket      int32\n",
       "BeforeStateHoliday_bucket     int32\n",
       "Max_Humidity_bucket           int32\n",
       "dtype: object"
      ]
     },
     "execution_count": 29,
     "metadata": {},
     "output_type": "execute_result"
    }
   ],
   "source": [
    "train_df[cat_vars].dtypes"
   ]
  },
  {
   "cell_type": "code",
   "execution_count": 30,
   "metadata": {},
   "outputs": [
    {
     "data": {
      "text/plain": [
       "Assortment                   object\n",
       "CloudCover                   object\n",
       "CompetitionMonthsOpen         int64\n",
       "CompetitionOpenSinceYear      int32\n",
       "Day                           int64\n",
       "DayOfWeek                     int64\n",
       "Events                       object\n",
       "Month                         int64\n",
       "Promo                         int64\n",
       "Promo2SinceYear               int32\n",
       "Promo2Weeks                   int64\n",
       "PromoInterval                object\n",
       "Promo_bw                      int32\n",
       "Promo_fw                      int32\n",
       "SchoolHoliday                 int64\n",
       "SchoolHoliday_bw              int32\n",
       "SchoolHoliday_fw              int32\n",
       "State                        object\n",
       "StateHoliday                   bool\n",
       "StateHoliday_bw               int32\n",
       "StateHoliday_fw               int32\n",
       "Store                         int64\n",
       "StoreType                    object\n",
       "Week                          int64\n",
       "Year                          int64\n",
       "CompetitionDistance_na         bool\n",
       "AfterStateHoliday_bucket      int32\n",
       "BeforeStateHoliday_bucket     int32\n",
       "Max_Humidity_bucket           int32\n",
       "dtype: object"
      ]
     },
     "execution_count": 30,
     "metadata": {},
     "output_type": "execute_result"
    }
   ],
   "source": [
    "test_df[cat_vars].dtypes"
   ]
  },
  {
   "cell_type": "markdown",
   "metadata": {},
   "source": [
    "Get the vocabulary for the object columns:"
   ]
  },
  {
   "cell_type": "code",
   "execution_count": 31,
   "metadata": {},
   "outputs": [
    {
     "name": "stdout",
     "output_type": "stream",
     "text": [
      "vocab for Assortment:\n",
      "['a' 'c' 'b']\n",
      "\n",
      "\n",
      "vocab for CloudCover:\n",
      "['1.0' '4.0' '2.0' '6.0' '5.0' 'nan' '3.0' '8.0' '7.0' '0.0']\n",
      "\n",
      "\n",
      "vocab for Events:\n",
      "['Fog' '-1' 'Rain' 'Rain-Thunderstorm' 'Fog-Rain' 'Rain-Hail-Thunderstorm'\n",
      " 'Fog-Rain-Thunderstorm' 'Thunderstorm' 'Rain-Hail' 'Fog-Thunderstorm'\n",
      " 'Rain-Snow' 'Fog-Rain-Hail-Thunderstorm' 'Snow' 'Rain-Snow-Hail'\n",
      " 'Rain-Snow-Hail-Thunderstorm' 'Rain-Snow-Thunderstorm' 'Fog-Rain-Snow'\n",
      " 'Fog-Snow' 'Snow-Hail' 'Fog-Rain-Snow-Hail' 'Fog-Rain-Hail'\n",
      " 'Fog-Snow-Hail']\n",
      "\n",
      "\n",
      "vocab for PromoInterval:\n",
      "['-1' 'Jan,Apr,Jul,Oct' 'Feb,May,Aug,Nov' 'Mar,Jun,Sept,Dec']\n",
      "\n",
      "\n",
      "vocab for State:\n",
      "['HE' 'TH' 'NW' 'BE' 'SN' 'SH' 'HB,NI' 'BY' 'BW' 'RP' 'ST' 'HH']\n",
      "\n",
      "\n",
      "vocab for StoreType:\n",
      "['c' 'a' 'd' 'b']\n",
      "\n",
      "\n"
     ]
    }
   ],
   "source": [
    "obj_columns = train_df[cat_vars]\\\n",
    "    .dtypes.where(lambda val: val == np.object)\\\n",
    "    .dropna()\\\n",
    "    .index\\\n",
    "    .tolist()\n",
    "\n",
    "for column in obj_columns:\n",
    "    print('vocab for {}:'.format(column))\n",
    "    print(train_df[column].unique())\n",
    "    print('\\n')"
   ]
  },
  {
   "cell_type": "markdown",
   "metadata": {},
   "source": [
    "Check that test set has no new vocabulary:"
   ]
  },
  {
   "cell_type": "code",
   "execution_count": 32,
   "metadata": {},
   "outputs": [],
   "source": [
    "for column in obj_columns:\n",
    "    train_vocab = train_df[column].unique()\n",
    "    test_vocab = test_df[column].unique()\n",
    "    \n",
    "    assert all([vocab in train_vocab for vocab in test_vocab])"
   ]
  },
  {
   "cell_type": "markdown",
   "metadata": {},
   "source": [
    "# Target Variable"
   ]
  },
  {
   "cell_type": "markdown",
   "metadata": {},
   "source": [
    "`Sales` is a float, not an integer:"
   ]
  },
  {
   "cell_type": "code",
   "execution_count": 33,
   "metadata": {},
   "outputs": [],
   "source": [
    "train_df['Sales'] = train_df['Sales'].astype(np.float)"
   ]
  },
  {
   "cell_type": "markdown",
   "metadata": {},
   "source": [
    "# Save"
   ]
  },
  {
   "cell_type": "markdown",
   "metadata": {},
   "source": [
    "Save all edits to train and test sets to a new parquet file:"
   ]
  },
  {
   "cell_type": "code",
   "execution_count": 34,
   "metadata": {},
   "outputs": [],
   "source": [
    "# you need date to split into train and validation set\n",
    "train_cols = ['Date'] + cont_vars + cat_vars + ['Sales']\n",
    "# you need Id to make submission to kaggle later\n",
    "test_cols = ['Id'] + cont_vars + cat_vars"
   ]
  },
  {
   "cell_type": "code",
   "execution_count": 35,
   "metadata": {},
   "outputs": [],
   "source": [
    "train_df[train_cols].to_parquet('./data/train_model_features.parquet', index=False)\n",
    "test_df[test_cols].to_parquet('./data/test_model_features.parquet', index=False)"
   ]
  },
  {
   "cell_type": "markdown",
   "metadata": {},
   "source": [
    "Print the updated list of continous and categorical variables for reference:"
   ]
  },
  {
   "cell_type": "code",
   "execution_count": 36,
   "metadata": {},
   "outputs": [
    {
     "data": {
      "text/plain": [
       "['AfterStateHoliday',\n",
       " 'BeforeStateHoliday',\n",
       " 'CompetitionDistance',\n",
       " 'Max_Humidity',\n",
       " 'Max_TemperatureC',\n",
       " 'Max_Wind_SpeedKm_h',\n",
       " 'Mean_Humidity',\n",
       " 'Mean_TemperatureC',\n",
       " 'Mean_Wind_SpeedKm_h',\n",
       " 'Min_Humidity',\n",
       " 'Min_TemperatureC',\n",
       " 'trend',\n",
       " 'trend_DE']"
      ]
     },
     "execution_count": 36,
     "metadata": {},
     "output_type": "execute_result"
    }
   ],
   "source": [
    "cont_vars"
   ]
  },
  {
   "cell_type": "code",
   "execution_count": 37,
   "metadata": {},
   "outputs": [
    {
     "data": {
      "text/plain": [
       "['Assortment',\n",
       " 'CloudCover',\n",
       " 'CompetitionMonthsOpen',\n",
       " 'CompetitionOpenSinceYear',\n",
       " 'Day',\n",
       " 'DayOfWeek',\n",
       " 'Events',\n",
       " 'Month',\n",
       " 'Promo',\n",
       " 'Promo2SinceYear',\n",
       " 'Promo2Weeks',\n",
       " 'PromoInterval',\n",
       " 'Promo_bw',\n",
       " 'Promo_fw',\n",
       " 'SchoolHoliday',\n",
       " 'SchoolHoliday_bw',\n",
       " 'SchoolHoliday_fw',\n",
       " 'State',\n",
       " 'StateHoliday',\n",
       " 'StateHoliday_bw',\n",
       " 'StateHoliday_fw',\n",
       " 'Store',\n",
       " 'StoreType',\n",
       " 'Week',\n",
       " 'Year',\n",
       " 'CompetitionDistance_na',\n",
       " 'AfterStateHoliday_bucket',\n",
       " 'BeforeStateHoliday_bucket',\n",
       " 'Max_Humidity_bucket']"
      ]
     },
     "execution_count": 37,
     "metadata": {},
     "output_type": "execute_result"
    }
   ],
   "source": [
    "cat_vars"
   ]
  }
 ],
 "metadata": {
  "kernelspec": {
   "display_name": "Python 3",
   "language": "python",
   "name": "python3"
  },
  "language_info": {
   "codemirror_mode": {
    "name": "ipython",
    "version": 3
   },
   "file_extension": ".py",
   "mimetype": "text/x-python",
   "name": "python",
   "nbconvert_exporter": "python",
   "pygments_lexer": "ipython3",
   "version": "3.5.2"
  },
  "toc": {
   "base_numbering": 1,
   "nav_menu": {
    "height": "275px",
    "width": "646px"
   },
   "number_sections": true,
   "sideBar": true,
   "skip_h1_title": false,
   "title_cell": "Table of Contents",
   "title_sidebar": "Contents",
   "toc_cell": false,
   "toc_position": {},
   "toc_section_display": true,
   "toc_window_display": false
  }
 },
 "nbformat": 4,
 "nbformat_minor": 2
}
